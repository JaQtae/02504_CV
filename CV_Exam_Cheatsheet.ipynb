{
 "cells": [
  {
   "cell_type": "code",
   "execution_count": 23,
   "metadata": {},
   "outputs": [],
   "source": [
    "# Importing the utility with all functions\n",
    "import importlib\n",
    "importlib.reload\n",
    "from CV_utils import *\n",
    "import numpy as np\n",
    "import math\n",
    "import cv2\n",
    "import itertools as it\n",
    "import matplotlib.pyplot as plt\n",
    "from scipy.spatial.transform import Rotation\n",
    "\n",
    "\n"
   ]
  },
  {
   "attachments": {},
   "cell_type": "markdown",
   "metadata": {},
   "source": [
    "#### This is a compilation of exercises, their solutions, relevant theory and code for 02504 Computer Vision at DTU.\n",
    "\n",
    "# **Week 1** - *Homogeneous coordinates and pin hole model*\n",
    "\n",
    "#### **Exercise 1.1**  - *Consider the following points in 2D. Convert them from homogeneous form to inhomogeneous form*\n",
    "$$p_1=\\begin{bmatrix}1 \\\\ 2 \\\\ 1\\end{bmatrix}, p_2=\\begin{bmatrix}4 \\\\ 2 \\\\ 2\\end{bmatrix}, p_3=\\begin{bmatrix}6 \\\\ 4 \\\\ -1\\end{bmatrix}, p_4=\\begin{bmatrix}5 \\\\ 3 \\\\ 0.5\\end{bmatrix}$$\n",
    "\n",
    "Converting them is done by scaling each coordinate by dividing with the third scaling coordinate and removing it, hence:\n",
    "\n",
    "$$q_1=\\begin{bmatrix}1/1 \\\\ 2/1 \\\\ \\sout{1}\\end{bmatrix}=\\begin{bmatrix}1 \\\\ 2\\end{bmatrix}, ~~q_2=\\begin{bmatrix}2 \\\\ 1\\end{bmatrix}, ~~ q_3=\\begin{bmatrix}-6 \\\\ -4\\end{bmatrix}, ~~ q_4=\\begin{bmatrix}10 \\\\ 6\\end{bmatrix}$$\n",
    "\n",
    "\n",
    "\n",
    "#### **Exercise 1.2**  - *Consider the following four points in 3D. What is their corresponding inhomogeneous coordinates $Q_i$?*\n",
    "$$P_1=\\begin{bmatrix}1 \\\\ 10 \\\\ -3 \\\\ 1\\end{bmatrix}, \\dots, P_4=\\begin{bmatrix}-15 \\\\ 3 \\\\ 6 \\\\ 3\\end{bmatrix}$$\n",
    "\n",
    "Similarly to exercise 1.1, but with an added dimension we have:\n",
    "$$Q_1=\\begin{bmatrix}1\\\\10\\\\-3\\end{bmatrix}, ~~Q_2=\\begin{bmatrix}1\\\\-2\\\\0.55\\end{bmatrix}, ~~Q_3=\\begin{bmatrix}0\\\\0\\\\-0.1\\end{bmatrix}, ~~Q_4=\\begin{bmatrix}-5\\\\1\\\\2\\end{bmatrix}$$\n",
    "\n",
    "\n",
    "\n",
    "#### **Exercise 1.3**  - *A 2D line is given by $x+2y=3$. Write it in inhomogeneous form, ie. $l^Tp=0$*\n",
    "We can read the coefficients $a$, $b$ and $c$ directly from the line formulation, hence:\n",
    "\n",
    "$$l^Tp=\\begin{bmatrix}a & b & c\\end{bmatrix}\\begin{bmatrix}sx \\\\ sy \\\\ s\\end{bmatrix} \\Rightarrow l=\\begin{bmatrix}1 \\\\ 2 \\\\ -3\\end{bmatrix}$$\n",
    "\n",
    "\n",
    "#### **Exercise 1.4**  - *Given $l$ from 1.3, which of the points $p_i$ are on this line?*\n",
    "For a point to be on a line it must obey $l^Tp=0$, hence we have:\n",
    "$$l^Tp_1=\\begin{bmatrix}1&2&-3\\end{bmatrix}\\begin{bmatrix}3\\\\0\\\\1\\end{bmatrix}=3+0-3=0$$\n",
    "The other points are omitted due to brevity and that it is a trivial relation.\n",
    "\n",
    "\n",
    "#### **Exercise 1.5**  - *Given $l_0$ and $l_1$, what is these lines point of intersection $q_1$?*\n",
    "The intersection of lines can be found a the cross product between them, ie:\n",
    "$$q_1=l_0\\times l_1=\\begin{bmatrix}(a_2b_3-a_3b_2)\\\\(a_3b_1-a_1b_3)\\\\(a_1b_2-a_2b_1)\\end{bmatrix}\\\\=\\begin{bmatrix}1\\cdot(-3)-(-1)\\cdot1\\\\-1\\cdot(-1)-1\\cdot(-3)\\\\1\\cdot1-1\\cdot(-1)\\end{bmatrix}=\\begin{bmatrix}-2\\\\4\\\\2\\end{bmatrix}$$\n",
    "\n",
    "\n",
    "\n",
    "#### **Exercise 1.6**  - *Given the matrix $\\mathbf{A}\\begin{bmatrix}10&0&2 \\\\ 0&10&-3 \\\\0&0&1\\end{bmatrix}$, what is the result of $Ap=q$, where $p$ and $q$ are 2D points in homogeneous coordinates? Explain what the (non-zero) coefficients of A do to q.*\n",
    "A is the so-called camera matrix, where $f=10$, $\\delta_x = 2$, and $\\delta_y = -3$. It projects the point $p$ to the image plane using $f$ and translates the point (to the image coordinate system by moving the origin) using the $\\delta$'s. The scaling is applied column-wise to $x$, $y$ and translations, respectively, ie.\n",
    "$$Ap = [10x+2, 10y-3, 1]$$\n",
    "\n",
    "Note, if the last diagonal entry in A was 10, then it would not have affected the inhomogeneous coordinates of q. The remaining two non-zero off-diagonal factors are 2D translations, which happen *after* scaling.\n",
    "\n",
    "\n",
    "#### **Exercise 1.7 & 1.8**  - *Given a line $l$, what is the shortest distance $d$ between it and points $p_i$?*\n",
    "The shortest distance can be found as:\n",
    "$$d_1=\\frac{|l^Tp_1|}{|p_{1,w}|\\sqrt{l_x^2+l_y^2}}=\\frac{\\bigg|\\begin{bmatrix}1/\\sqrt{2}\\\\1/\\sqrt{2}\\\\-1\\end{bmatrix}^T\\begin{bmatrix}0\\\\0\\\\1\\end{bmatrix}\\bigg|}{\\sqrt{1^2}\\cdot\\sqrt{(1/\\sqrt{2})^2+(1/\\sqrt{2})^2}}=\\frac{\\sqrt{(-1)^2}}{1\\cdot\\sqrt{1}}=1$$\n",
    "\n",
    "$$d_2=\\frac{\\sqrt{(\\sqrt{2}\\cdot\\sqrt{\\frac{1}{\\sqrt{2}}}+\\sqrt{2}\\cdot\\sqrt{\\frac{1}{\\sqrt{2}}}+1\\cdot(-1))^2}}{\\sqrt{1^2}\\cdot\\sqrt{1^2}}=\\frac{\\sqrt{(1+1-1)^2}}{1}=1$$\n",
    "\n",
    "$$d_3=\\frac{\\sqrt{(1+1-4)^2}}{\\sqrt{4^2}\\cdot\\sqrt{1^2}}=\\frac{2}{4}=\\frac{1}{2}$$\n",
    "Exercise 1.8 is all the same but with a new line.\n",
    "\n"
   ]
  },
  {
   "attachments": {},
   "cell_type": "markdown",
   "metadata": {},
   "source": [
    "#### Programming exercises\n",
    "\n",
    "#### **Exercise 1.9 & 1.10** - *Load and display and image with OpenCV/Matplotlib*"
   ]
  },
  {
   "cell_type": "code",
   "execution_count": 24,
   "metadata": {},
   "outputs": [
    {
     "data": {
      "text/plain": [
       "'c:\\\\Users\\\\jakob\\\\Desktop\\\\UniStuff\\\\Spring2023\\\\ComputerVision\\\\CV_EXAM'"
      ]
     },
     "execution_count": 24,
     "metadata": {},
     "output_type": "execute_result"
    }
   ],
   "source": [
    "import os\n",
    "os.getcwd()"
   ]
  },
  {
   "cell_type": "code",
   "execution_count": 25,
   "metadata": {},
   "outputs": [
    {
     "name": "stdout",
     "output_type": "stream",
     "text": [
      "Current OpenCV version is: 4.7.0\n"
     ]
    },
    {
     "data": {
      "text/plain": [
       "<matplotlib.image.AxesImage at 0x1fa873290f0>"
      ]
     },
     "execution_count": 25,
     "metadata": {},
     "output_type": "execute_result"
    }
   ],
   "source": [
    "import cv2; import matplotlib.pyplot as plt; \n",
    "print(f\"Current OpenCV version is: {cv2.__version__}\"); \n",
    "im = cv2.imread('../CV_EXAM/data/Donald.png')\n",
    "# Note OpenCV flips colour scheme. Hence, do below.\n",
    "plt.imshow(im[:,:,::-1])\n"
   ]
  },
  {
   "attachments": {},
   "cell_type": "markdown",
   "metadata": {},
   "source": [
    "#### Pinhole camera helper functions.\n",
    "This lets us project several 3D points into an image plane. Read the book for relevant theory regarding pinhole cameras.\n",
    "\n",
    "#### **Exercise 1.11 + 1.12 + 1.13** - *Helper functions*"
   ]
  },
  {
   "cell_type": "code",
   "execution_count": 26,
   "metadata": {},
   "outputs": [],
   "source": [
    "# Test of projectpoints()\n",
    "K = np.eye(3)\n",
    "R = np.eye(3)\n",
    "t = np.array((0, 0, 4))\n",
    "box = box3d()\n",
    "box_projected = projectpoints(K, R, t, box)\n",
    "plt.scatter(*box_projected);"
   ]
  },
  {
   "attachments": {},
   "cell_type": "markdown",
   "metadata": {},
   "source": [
    "#### **Exercise 1.14** - *$\\theta=30^o=\\frac{\\pi}{6}$ with $R=\\begin{bmatrix}\\cos(\\theta) & 0 & \\sin(\\theta) \\\\ 0 & 1 & 0 \\\\-\\sin(\\theta) & 0 & \\cos(\\theta)\\end{bmatrix}$ what is the effect?*"
   ]
  },
  {
   "cell_type": "code",
   "execution_count": 27,
   "metadata": {},
   "outputs": [
    {
     "name": "stdout",
     "output_type": "stream",
     "text": [
      "The box is rotated by theta horizontally.\n"
     ]
    }
   ],
   "source": [
    "theta = math.pi / 6\n",
    "R = np.array([\n",
    "    [math.cos(theta), 0, math.sin(theta)],\n",
    "    [0, 1, 0],\n",
    "    [-math.sin(theta), 0, math.cos(theta)]\n",
    "])\n",
    "\n",
    "box_projected = projectpoints(K, R, t, box)\n",
    "plt.scatter(*box_projected);\n",
    "print(\"The box is rotated by theta horizontally.\")"
   ]
  },
  {
   "attachments": {},
   "cell_type": "markdown",
   "metadata": {},
   "source": [
    "Changing $R$ primarily means that we are rotating along different axes. Changing $t$ alters the translation of the camera with respect to the object."
   ]
  },
  {
   "attachments": {},
   "cell_type": "markdown",
   "metadata": {},
   "source": [
    "# **Week 2** - *Camera model and homographies*\n",
    "Note that we assume a *modern* camera with square pixels in the following exercises.\n",
    "\n",
    "#### **Exercise 2.1** \n",
    "##### a) *Assume $f=600$, $\\alpha=1$, $\\beta=0$, and $\\delta x=\\delta y=400$*. In a traditional camera, what is the resolution in pixels?\n",
    "\n",
    "$\\delta x$, $\\delta y$ denote the principal point, i.e., the centre of the image! Thus the resolution is \n",
    "$2\\delta x \\times 2\\delta y$. In this case we have $800 \\times 800$ pixels.\n",
    "\n",
    "##### b) Assume $R=I$ and $t=[0, .2, 1.5]^T$. Are all points captured by image sensor? (use `projectpoints()`)\n",
    "\n",
    "No, inspect the y-axis values. Some points are above 800, ie. are not captured by the sensor. However, it also starts at 200, so subtracting 100 would get us within out 800x800 pixel space.\n"
   ]
  },
  {
   "cell_type": "code",
   "execution_count": 28,
   "metadata": {},
   "outputs": [],
   "source": [
    "R = np.eye(3); t = np.array([0,.2,1.5]).T;\n",
    "box_3d = box3d()\n",
    "box_2d = projectpoints(K, R, t, box_3d)\n",
    "plt.scatter(box_2d[0,:], box_2d[1,:], color='red')\n",
    "plt.show()"
   ]
  },
  {
   "attachments": {},
   "cell_type": "markdown",
   "metadata": {},
   "source": [
    "##### c) *Where does the corner $P_1$ project to?*"
   ]
  },
  {
   "cell_type": "code",
   "execution_count": 29,
   "metadata": {},
   "outputs": [
    {
     "name": "stdout",
     "output_type": "stream",
     "text": [
      "Coordinate of projected 3D point P1 to 2D point: [[-0.5]\n",
      " [-0.3]]\n"
     ]
    }
   ],
   "source": [
    "p_3d = np.array([-0.5,-0.5,-0.5]).reshape(-1,1)\n",
    "p_2d = projectpoints(K, R, t, p_3d)\n",
    "print(f'Coordinate of projected 3D point P1 to 2D point: {p_2d}')\n",
    "plt.scatter(box_2d[0,:],box_2d[1,:],color='red')\n",
    "plt.scatter(p_2d[0],p_2d[1], color='blue')\n",
    "plt.show()"
   ]
  },
  {
   "attachments": {},
   "cell_type": "markdown",
   "metadata": {},
   "source": [
    "#### **Exercise 2.2** - *Alter helper function `projectpoints()` to function with distortion from distCoeffs*\n",
    "##### Furthermore assume that the distortion is $\\Delta r(r)=-0.2r^2$\n",
    "a) What are the distortion coefficients in this case?\n",
    "\n",
    "They are -0.2 and wil be 0 for $r^k$ when $k>2$ (Read slides if in doubt)\n",
    "\n",
    "b) Where does $P_1$ project to?\n",
    "\n",
    "Given below.\n",
    "\n",
    "\n",
    "c) Are all points now captured by the image sensor?\n",
    "\n",
    "Yes (Axes a perturbed by code, but source: trust me bro)"
   ]
  },
  {
   "cell_type": "code",
   "execution_count": 30,
   "metadata": {},
   "outputs": [
    {
     "name": "stdout",
     "output_type": "stream",
     "text": [
      "Projected point: [[-0.466 ]\n",
      " [-0.2796]]\n"
     ]
    }
   ],
   "source": [
    "distortion_coeff = np.array([-0.2])\n",
    "pts_dist = projectpoints_dist(K, R, t, box_3d, distortion_coeff)\n",
    "p1_dist = projectpoints_dist(K,R,t, p_3d, distortion_coeff)\n",
    "print(f\"Projected point: {p1_dist}\")\n",
    "plt.scatter(pts_dist[0,:], pts_dist[1,:],color='red')\n",
    "plt.scatter(p1_dist[0],p1_dist[1], color='blue')\n",
    "plt.show()"
   ]
  },
  {
   "attachments": {},
   "cell_type": "markdown",
   "metadata": {},
   "source": [
    "**Exercise 2.3** - *Assume $f=0.455732\\cdot\\texttt{im width}$, and reasonable guess of $\\alpha$ and $\\beta$ with distortion coefficients $k_i$. What is $\\mathbf{K}$?*"
   ]
  },
  {
   "cell_type": "code",
   "execution_count": 31,
   "metadata": {},
   "outputs": [
    {
     "name": "stdout",
     "output_type": "stream",
     "text": [
      "[[875.00544   0.      960.     ]\n",
      " [  0.      875.00544 540.     ]\n",
      " [  0.        0.        1.     ]]\n"
     ]
    }
   ],
   "source": [
    "im = cv2.imread('../CV_EXAM/data/gopro_robot.jpg')[:,:,::-1]\n",
    "im = im.astype(float)/255\n",
    "#plt.imshow(im)\n",
    "#plt.show()\n",
    "# Assumptions from descr.\n",
    "f = 0.455732*im.shape[1]\n",
    "dy = im.shape[0]/2\n",
    "dx = im.shape[1]/2\n",
    "k = np.array([-0.245031,0.071524,-0.00994978])\n",
    "K = np.array([[f,0,dx],\n",
    "              [0,f,dy],\n",
    "              [0,0,1]])\n",
    "print(K)"
   ]
  },
  {
   "cell_type": "code",
   "execution_count": 32,
   "metadata": {},
   "outputs": [],
   "source": [
    "im_undistorted = undistortImage(im, K, k)\n",
    "plt.imshow(im)\n",
    "plt.show()\n",
    "plt.imshow(im_undistorted);"
   ]
  },
  {
   "attachments": {},
   "cell_type": "markdown",
   "metadata": {},
   "source": [
    "#### **Exercise 2.5** - *Consider points on a plane $p_{2i}$. With homography $\\mathbf{H}$, map the points $\\mathbf{Hq}_2$*\n",
    "Converting $p_{2i}$ from inhomogeneous to homogenous, then map via homography $q_{ih}=Hp_{ih}$, then remap to inhomogeneous."
   ]
  },
  {
   "cell_type": "code",
   "execution_count": 33,
   "metadata": {},
   "outputs": [
    {
     "name": "stdout",
     "output_type": "stream",
     "text": [
      "Columns:   q21 \t    | \tq22 \t|   q23        |   q24 |\n"
     ]
    },
    {
     "data": {
      "text/plain": [
       "array([[-0.33333333,  0.33333333, -1.        , -1.        ],\n",
       "       [-0.33333333, -2.        , -1.33333333, -2.        ]])"
      ]
     },
     "execution_count": 33,
     "metadata": {},
     "output_type": "execute_result"
    }
   ],
   "source": [
    "#Column wise point 2D points\n",
    "points = np.array([ [1, 0, 2, 2],\n",
    "                    [1, 3, 3, 4] ])\n",
    "H = np.array([  [-2, 0, 1],\n",
    "                [1, -2, 0],\n",
    "                [0,  0, 3]   ])\n",
    "q2 = PiInv_v(points)\n",
    "q1 = H @ q2\n",
    "print(\"Columns:   q21 \\t    | \\tq22 \\t|   q23        |   q24 |\")\n",
    "np.array([Pi(q1)[:,0], Pi(q1)[:,1], Pi(q1)[:,2], Pi(q1)[:,3]]).T"
   ]
  },
  {
   "attachments": {},
   "cell_type": "markdown",
   "metadata": {},
   "source": [
    "#### **Exercise 2.6** - *implement `hest()`, which takes two sets of 2D points and returns estimated H by linear algorithm. Use 2.5, are they scaled? Why is this fine?*\n",
    "\n",
    "We should obtain the same H, but multiplied such that $||H||_F=1$"
   ]
  },
  {
   "cell_type": "code",
   "execution_count": 34,
   "metadata": {},
   "outputs": [
    {
     "name": "stdout",
     "output_type": "stream",
     "text": [
      "Original homography (H):\n",
      " [[-2  0  1]\n",
      " [ 1 -2  0]\n",
      " [ 0  0  3]]\n",
      "Scaling factor (Norm of original H):\n",
      " 4.358898943540674\n",
      "Frobenius norm of H_est (should be 1):\n",
      " 1.0\n",
      "Scaled H_est by -Frob of original H: \n",
      "[[-2.  0.  1.]\n",
      " [ 1. -2. -0.]\n",
      " [-0.  0.  3.]]\n"
     ]
    }
   ],
   "source": [
    "qs = [Pi(q1)[:,0], Pi(q1)[:,1], Pi(q1)[:,2], Pi(q1)[:,3]]\n",
    "ps = [points[:,0], points[:,1], points[:,2], points[:,3]]\n",
    "#print(f\"qs:{qs}\"); print(f\"ps:{ps}\")\n",
    "H0 = hest(qs, ps)\n",
    "#Frobenius norm of original homography H\n",
    "normH = np.linalg.norm(H)\n",
    "#Sanity checks\n",
    "print(f\"Original homography (H):\\n {H}\")\n",
    "print(f\"Scaling factor (Norm of original H):\\n {normH}\")\n",
    "print(f\"Frobenius norm of H_est (should be 1):\\n {round(np.linalg.norm(H0),5)}\")\n",
    "print(f\"Scaled H_est by -Frob of original H: \\n{np.round(-normH * H0, 2)}\")"
   ]
  },
  {
   "attachments": {},
   "cell_type": "markdown",
   "metadata": {},
   "source": [
    "#### **Exercise 2.7** "
   ]
  },
  {
   "cell_type": "code",
   "execution_count": 35,
   "metadata": {},
   "outputs": [
    {
     "data": {
      "text/plain": [
       "(array([0., 0.]), array([1., 1.]))"
      ]
     },
     "execution_count": 35,
     "metadata": {},
     "output_type": "execute_result"
    }
   ],
   "source": [
    "qtest = np.hstack((q1, q2))\n",
    "T, Tinv = normalize2d(Pi(qtest))\n",
    "pnorm = Pi(T @ qtest)\n",
    "pnorm.mean(1), pnorm.std(1) "
   ]
  },
  {
   "attachments": {},
   "cell_type": "markdown",
   "metadata": {},
   "source": [
    "#### **Exercise 2.8**"
   ]
  },
  {
   "attachments": {},
   "cell_type": "markdown",
   "metadata": {},
   "source": [
    "# **Week 3** - *Multi-view Geometry*\n",
    "Set up two cameras, both with the internal parameters:\n",
    "\n",
    "First camera **Cam1** has the rotation as $R1 = I$ and the translation to zero, $t1 = 0$. For the second camera **Cam2** use the rotation given by the $R$ function and translation $t$:\n",
    "\n",
    "$$R_2=\\mathcal{R}(0.7, -0.5, 0.8), ~~~~~t_2=\\begin{bmatrix}0.2\\\\2\\\\1\\end{bmatrix}$$\n",
    "\n",
    "The rotation can be constructed in Python using Rotation module from scipy as follows: \n",
    "```python\n",
    "    from scipy.spatial.transform import Rotation\n",
    "    R2 = Rotation.from_euler('xyz', [0.7, -0.5, 0.8]).as_matrix()\n",
    "```\n",
    "\n",
    "#### **Exercise 3.1** - *Consider 3D point $Q$. Find the projections in **Cam1** and **Cam2**, ie. $q_1$ and $q_2$*"
   ]
  },
  {
   "cell_type": "code",
   "execution_count": 36,
   "metadata": {},
   "outputs": [
    {
     "name": "stdout",
     "output_type": "stream",
     "text": [
      "q1: [[550.]\n",
      " [325.]]\n",
      "\n",
      "q2: [[582.47256835]\n",
      " [185.98985776]]\n"
     ]
    }
   ],
   "source": [
    "from scipy.spatial.transform import Rotation\n",
    "K = np.array([[1000,0,300],[0,1000,200],[0,0,1]])\n",
    "R1 = np.eye(3)\n",
    "t1 = np.zeros(3).reshape(-1,1)\n",
    "R2 = Rotation.from_euler('xyz', [0.7, -0.5, 0.8]).as_matrix()\n",
    "t2 = np.array([0.2,2,1]).reshape(-1,1)\n",
    "\n",
    "Q = np.array([1,0.5,4,1]).reshape(-1,1)\n",
    "q1 = projectpoints(K,R1,t1,Pi(Q))\n",
    "q2 = projectpoints(K,R2,t2,Pi(Q))\n",
    "print(f\"q1: {q1}\"); print(f\"\\nq2: {q2}\")"
   ]
  },
  {
   "attachments": {},
   "cell_type": "markdown",
   "metadata": {},
   "source": [
    "#### **Exercise 3.2** - *Implement `CrossOp()`, which takes 3D vector and returns the crossproduct matrix of that vector.*"
   ]
  },
  {
   "cell_type": "code",
   "execution_count": 37,
   "metadata": {},
   "outputs": [
    {
     "data": {
      "text/plain": [
       "array([[0., 0., 0.]])"
      ]
     },
     "execution_count": 37,
     "metadata": {},
     "output_type": "execute_result"
    }
   ],
   "source": [
    "np.array([np.zeros(3)])"
   ]
  },
  {
   "cell_type": "code",
   "execution_count": 38,
   "metadata": {},
   "outputs": [],
   "source": [
    "def CrossOp(p):\n",
    "    p = p.reshape(len(p))\n",
    "    x = p[0]\n",
    "    y = p[1]\n",
    "    z = p[2]\n",
    "    return np.array([[0,-z,y],[z,0,-x],[-y,x,0]])\n",
    "try:\n",
    "    assert((CrossOp(t2)@t2).all()==0)\n",
    "    assert(np.cross(t2.reshape(len(t2)),t2.reshape(len(t2))).all()==0)\n",
    "except:\n",
    "    print('WARNING: CrossOp() does not work as intended.')"
   ]
  },
  {
   "attachments": {},
   "cell_type": "markdown",
   "metadata": {},
   "source": [
    "#### **Exercise 3.3** - *Compute the fundamental matrix $F$ of the two cameras*"
   ]
  },
  {
   "cell_type": "code",
   "execution_count": 39,
   "metadata": {},
   "outputs": [
    {
     "name": "stdout",
     "output_type": "stream",
     "text": [
      "Fundemantal matrix, F: \n",
      " [[ 3.29311881e-07  8.19396327e-07  1.79162592e-03]\n",
      " [ 5.15532551e-07 -8.76915984e-07  9.31426656e-05]\n",
      " [-1.29882755e-03  1.51951700e-03 -1.10072682e+00]]\n"
     ]
    }
   ],
   "source": [
    "E = CrossOp(t2)@R2\n",
    "F = np.linalg.inv(K).T@E@np.linalg.inv(K)\n",
    "print('Fundemantal matrix, F: \\n', F)"
   ]
  },
  {
   "attachments": {},
   "cell_type": "markdown",
   "metadata": {},
   "source": [
    "#### **Exercise 3.4** - *What is the epipolar line $l$ of $q_1$ in **Cam2**?*\n",
    "\n",
    "**Note**: $l$ inadverdently depends of the scale of $q_1$. Hence, we rescale it by the possible solutions (relevant for exam). This should give an answer option when correct: "
   ]
  },
  {
   "cell_type": "code",
   "execution_count": 40,
   "metadata": {},
   "outputs": [
    {
     "name": "stdout",
     "output_type": "stream",
     "text": [
      "Rescaled epipolar line: \n",
      " [[ 8.95600000e-03]\n",
      " [ 3.66743100e-04]\n",
      " [-5.28483482e+00]]\n"
     ]
    }
   ],
   "source": [
    "l = F@PiInv(q1)\n",
    "# Trick to find correct solution\n",
    "l_first_entry = l[0]\n",
    "answer_option_first_entry = 8.956e-3\n",
    "scale = answer_option_first_entry/l_first_entry\n",
    "print(\"Rescaled epipolar line: \\n\", l*scale)"
   ]
  },
  {
   "attachments": {},
   "cell_type": "markdown",
   "metadata": {},
   "source": [
    "#### **Exercise 3.5** - *Is $q_2$ located on epipolar line $l$? Explain why this **must** be so!*\n",
    "Recall for a point to be on a line it must obey $l^Tq=0$\n",
    "\n",
    "Since $q_2$ and $l$ are derived from the same 3D point $Q$, which yields a single epipolar plane, in turn yielding a single line in each camera! Projections of 3D point must lie on the epipolar lines.\n"
   ]
  },
  {
   "cell_type": "code",
   "execution_count": 41,
   "metadata": {},
   "outputs": [
    {
     "data": {
      "text/plain": [
       "array([[0.]])"
      ]
     },
     "execution_count": 41,
     "metadata": {},
     "output_type": "execute_result"
    }
   ],
   "source": [
    "np.round((l*scale).T@PiInv(q2),4) #You can do this with the scaled line\n",
    "np.round(l.T@PiInv(q2),4) #or the non-scaled line :D"
   ]
  },
  {
   "attachments": {},
   "cell_type": "markdown",
   "metadata": {},
   "source": [
    "#### **Exercise 3.6** - *Assume local coordinate systems in **Cam1** and **Cam2**, which are different from the world coordinate system. Let $Q$ and $\\tilde{Q}$ denote the **same** 3D point in world space and in the frame of camera one, ie.*: \n",
    "$$\\tilde{Q}= \\begin{bmatrix}R_1 & t_1 \\\\ 0 & 1\\end{bmatrix}Q$$\n",
    "\n",
    "Show analytically that $$\\tilde{Q}= \\begin{bmatrix}R_1^T & -R_1^Tt_1 \\\\ 0 & 1\\end{bmatrix}$$\n",
    "\n",
    "Putting Eq 14 into Eq 13 shows they are inverses of each other:\n",
    "\n",
    "$$\\tilde{Q}= \\begin{bmatrix}R_1 & t_1 \\\\ 0 & 1\\end{bmatrix}\\begin{bmatrix}R_1^T & -R_1^Tt_1 \\\\ 0 & 1\\end{bmatrix}\\tilde{Q}=\\begin{bmatrix}I & 0 \\\\ 0 & 1\\end{bmatrix}\\tilde{Q}$$\n"
   ]
  },
  {
   "attachments": {},
   "cell_type": "markdown",
   "metadata": {},
   "source": [
    "#### **Exercise 3.7** - *See solutions from EX03.pdf*"
   ]
  },
  {
   "attachments": {},
   "cell_type": "markdown",
   "metadata": {},
   "source": [
    "#### **Exercise 3.8** - *Load data and compute fundamental matrix $F$ between **Cam1** and **Cam2** *"
   ]
  },
  {
   "cell_type": "code",
   "execution_count": 42,
   "metadata": {},
   "outputs": [
    {
     "data": {
      "text/plain": [
       "array([[ 6.67972386e-12, -7.85049967e-10,  1.17921973e-07],\n",
       "       [-9.75936980e-10, -4.86806510e-12,  3.28699196e-05],\n",
       "       [ 4.23506610e-07, -3.21704080e-05, -2.12002228e-04]])"
      ]
     },
     "execution_count": 42,
     "metadata": {},
     "output_type": "execute_result"
    }
   ],
   "source": [
    "im_object = np.load('../CV_EXAM/data/TwoImageData.npy', allow_pickle=True).item() \n",
    "#Object with all the necessary matrices in it (as well as images)\n",
    "R2 = im_object['R2']\n",
    "t2 = im_object['t2']\n",
    "K = im_object['K']\n",
    "E = CrossOp(t2)@R2\n",
    "F = np.linalg.inv(K).T@E@np.linalg.inv(K)\n",
    "F"
   ]
  },
  {
   "attachments": {},
   "cell_type": "markdown",
   "metadata": {},
   "source": [
    "#### **Exercise 3.9** - *Show both images, and have interactive click point in image 1 and display corresponding epipolar line in other image.*"
   ]
  },
  {
   "cell_type": "code",
   "execution_count": 43,
   "metadata": {},
   "outputs": [],
   "source": [
    "def DrawEpipolarLine(l, shape):\n",
    "    #Checks where the line intersects the four sides of the image\n",
    "    # and finds the two intersections that are within the frame\n",
    "    def in_frame(l_im):\n",
    "        q = np.cross(l.flatten(), l_im)\n",
    "        q = q[:2]/q[2]\n",
    "        if all(q>=0) and all(q+1<=shape[1::-1]):\n",
    "            return q\n",
    "    lines = [[1, 0, 0], [0, 1, 0], [1, 0, 1-shape[1]], [0, 1, 1-shape[0]]]\n",
    "    P = [in_frame(l_im) for l_im in lines if in_frame(l_im) is not None]\n",
    "    plt.plot(*np.array(P).T, 'r')"
   ]
  },
  {
   "cell_type": "code",
   "execution_count": 44,
   "metadata": {},
   "outputs": [],
   "source": [
    "%matplotlib qt\n",
    "fig, ax = plt.subplots(1,2)\n",
    "ax[0].imshow(im_object['im1'])\n",
    "ax[1].imshow(im_object['im2'])\n",
    "def PiInv(p, scale=1):\n",
    "    p = np.vstack((p,scale*np.ones(p.shape[1]).reshape(1,-1)))\n",
    "    return scale*p\n",
    "point = PiInv(np.array(plt.ginput(1)).reshape(-1,1))\n",
    "l = F@point\n",
    "DrawEpipolarLine(l, im_object['im2'].shape)\n",
    "plt.show()\n",
    "#Dont confuse l and l_im hahaha"
   ]
  },
  {
   "attachments": {},
   "cell_type": "markdown",
   "metadata": {},
   "source": [
    "#### **Exercise 3.10** - *Do the same as 3.9, but the other way around, ie. for image two --> epipolar line image 1*"
   ]
  },
  {
   "cell_type": "code",
   "execution_count": 45,
   "metadata": {},
   "outputs": [],
   "source": [
    "%matplotlib qt\n",
    "fig, ax = plt.subplots(1,2)\n",
    "ax[0].imshow(im_object['im2'])\n",
    "ax[1].imshow(im_object['im1'])\n",
    "point = PiInv(np.array(plt.ginput(1)).reshape(-1,1))\n",
    "l = F@point\n",
    "DrawEpipolarLine(l, im_object['im1'].shape)\n",
    "plt.show()"
   ]
  },
  {
   "attachments": {},
   "cell_type": "markdown",
   "metadata": {},
   "source": [
    "#### **Exercise 3.11** -  *Triangulate a single 3D point seen by $n$ cameras*"
   ]
  },
  {
   "cell_type": "code",
   "execution_count": 46,
   "metadata": {},
   "outputs": [
    {
     "data": {
      "text/plain": [
       "((8, 3, 4), (2, 8))"
      ]
     },
     "execution_count": 46,
     "metadata": {},
     "output_type": "execute_result"
    },
    {
     "data": {
      "image/png": "[encoded data removed]",
      "text/plain": [
       "<Figure size 1000x500 with 8 Axes>"
      ]
     },
     "metadata": {},
     "output_type": "display_data"
    }
   ],
   "source": [
    "from scipy.spatial.transform import Rotation\n",
    "f, alpha, beta, deltax, deltay = 600, 1, 0, 400, 400\n",
    "K = np.array([\n",
    "    [f, beta*f, deltax],\n",
    "    [0, alpha*f, deltay],\n",
    "    [0, 0, 1]\n",
    "])\n",
    "\n",
    "box = box3d()\n",
    "\n",
    "# Choose a point in the box\n",
    "point = 100\n",
    "%matplotlib inline\n",
    "Ps = []\n",
    "qs = []\n",
    "fig, axs = plt.subplots(2, 4, figsize=(10, 5))\n",
    "for ax in axs.ravel():\n",
    "    R = Rotation.from_euler('xyz', np.random.uniform(-np.pi/2, np.pi/2, size=3)).as_matrix()\n",
    "    t = np.array([0, 0, 1.6])\n",
    "    box_projected = ProjectPoints_(K, R, t, box)\n",
    "    \n",
    "    Ps.append(K @ np.hstack((R, t[:, np.newaxis])))\n",
    "    qs.append(box_projected[:, point:point+1])\n",
    "    \n",
    "    ax.scatter(*box_projected, s=1.2)\n",
    "    ax.set_xlim(0, 2*deltax), ax.set_ylim(2*deltay, 0)\n",
    "    ax.set_xticks([]), ax.set_yticks([])\n",
    "Ps = np.stack(Ps)\n",
    "qs = np.hstack(qs)\n",
    "Ps.shape, qs.shape"
   ]
  },
  {
   "cell_type": "code",
   "execution_count": 47,
   "metadata": {},
   "outputs": [
    {
     "data": {
      "text/plain": [
       "(array([-0.23333333, -0.5       ,  0.5       ]),\n",
       " array([-0.23333333, -0.5       ,  0.5       ]))"
      ]
     },
     "execution_count": 47,
     "metadata": {},
     "output_type": "execute_result"
    }
   ],
   "source": [
    "Q_true = box[:, point]\n",
    "Q = triangulate(qs, Ps)\n",
    "Q_true, Q"
   ]
  },
  {
   "attachments": {},
   "cell_type": "markdown",
   "metadata": {},
   "source": [
    "# **Week 4** - *Camera Calibration*\n",
    "\n",
    "These exercises will take you through:\n",
    "Direct linear transform (DLT), linear algorithm for camera calibration and\n",
    "checkerboard calibration, and bundle adjustment from Zhang (2000). You should be able to perform camera calibration using both methods.\n",
    "\n",
    "Consider 3D points of the form $Q_{ijk}=\\begin{bmatrix}i\\\\ j\\\\ k\\end{bmatrix}$ with binary entries (0,1). Consider cameras with $f=1000$ and resolution $1920\\times 1080$. The camera is transformed such that $R=\\begin{bmatrix}\\sqrt{1/2} & \\sqrt{1/2} & 0\\\\ \\sqrt{1/2} & \\sqrt{1/2} &0 \\\\ 0&0&1\\end{bmatrix}$ and $t=\\begin{bmatrix}0\\\\ 0\\\\ 10\\end{bmatrix}$\n",
    "\n",
    "#### **Exercise 4.1** - *Find the projection matrix $\\mathcal{P}$ and the projections $q$*"
   ]
  },
  {
   "cell_type": "code",
   "execution_count": 2,
   "metadata": {},
   "outputs": [
    {
     "name": "stdout",
     "output_type": "stream",
     "text": [
      "Projections q: \n",
      " [[960.         960.         889.28932188]\n",
      " [540.         540.         610.71067812]]\n",
      "P: \n",
      " [[ 7.07106781e+02 -7.07106781e+02  9.60000000e+02  9.60000000e+03]\n",
      " [ 7.07106781e+02  7.07106781e+02  5.40000000e+02  5.40000000e+03]\n",
      " [ 0.00000000e+00  0.00000000e+00  1.00000000e+00  1.00000000e+01]]\n"
     ]
    }
   ],
   "source": [
    "f, deltax, deltay = 1e3, 960, 540\n",
    "vals = (0, 1)\n",
    "\n",
    "Q = [np.array([i, j, k]) \n",
    "    for i in vals \n",
    "    for j in vals \n",
    "    for k in vals]\n",
    "Q = PiInv(np.array(Q).T)\n",
    "\n",
    "K = np.array([  [f, 0, deltax],\n",
    "                [0, f, deltay],\n",
    "                [0, 0, 1] ])\n",
    "R = np.array([\n",
    "        [math.sqrt(.5), -math.sqrt(.5), 0],\n",
    "        [math.sqrt(.5), math.sqrt(.5), 0],\n",
    "        [0, 0, 1]\n",
    "])\n",
    "t = np.array([0, 0, 10])\n",
    "\n",
    "\n",
    "P = K @ np.hstack((R, t[:, np.newaxis]))\n",
    "q = P @ Q\n",
    "print(\"Projections q: \\n\", Pi(q)[:, :3])\n",
    "print(\"P: \\n\", P)"
   ]
  },
  {
   "attachments": {},
   "cell_type": "markdown",
   "metadata": {},
   "source": [
    "#### **Exercise 4.2** - *Write a function pest that uses $Q$ and $q$ to estimate $\\mathcal{P}$ with the DLT. Do not normalize your points to begin with. Use the estimated projection matrix $P_{est}$ to project the points $Q$, giving you the re-projected points $q_{est}$*\n",
    "\n",
    "- What is the overall reprojection error $\\sqrt{\\sum\\frac{1}{n}||q_{est}-q||^2_2}$ (RMSE)? \n",
    "\n",
    "- Does normalizing your points change the results?\n",
    "\n",
    "The projection matrix and the reprojections are identical to the original within machine precision.\n",
    "\n",
    "The error is approximately $10^{-11}$ unnormalized and $10^{-14}$ normalized.\n",
    "\n"
   ]
  },
  {
   "attachments": {},
   "cell_type": "markdown",
   "metadata": {},
   "source": [
    "<p style=\"color:red\">There is a discrepancy with Felix/Rune's code and when I run it. I get 2.33e-10, they get 1.27e-10.</p>"
   ]
  },
  {
   "cell_type": "code",
   "execution_count": 3,
   "metadata": {},
   "outputs": [
    {
     "name": "stdout",
     "output_type": "stream",
     "text": [
      "Not normalized: 2.329131949179513e-10\n",
      "Normalized: 1.2710574864626038e-13\n"
     ]
    }
   ],
   "source": [
    "def pest(\n",
    "      Q: np.array,\n",
    "      q: np.array,\n",
    "      normalize=True\n",
    "    ):\n",
    "    if normalize:\n",
    "        TQ, TQinv = normalize3d(Pi(Q))\n",
    "        Tq, Tqinv = normalize2d(Pi(q))\n",
    "        Q, q = TQ @ Q, Tq @ q\n",
    "    B = np.vstack([\n",
    "        np.kron(Qi, cross_op(qi / qi[-1]))\n",
    "        for Qi, qi in zip(Q.T, q.T)\n",
    "    ])\n",
    "    u, s, v = np.linalg.svd(B)\n",
    "    \n",
    "    P = v[-1].reshape(4, 3).T\n",
    "    return Tqinv @ P @ TQ if normalize else P\n",
    "\n",
    "Pest = pest(Q, q, normalize=False)\n",
    "qest = Pest @ Q\n",
    "RMSE = np.sqrt(\n",
    "    np.mean(np.linalg.norm(Pi(qest) - Pi(q), axis=0)**2)\n",
    ")\n",
    "print(f\"Not normalized: {RMSE}\")\n",
    "Pest = pest(Q, q, normalize=True)\n",
    "qest = Pest @ Q\n",
    "RMSE = np.sqrt(\n",
    "    np.mean(np.linalg.norm(Pi(qest) - Pi(q), axis=0)**2)\n",
    ")\n",
    "print(f\"Normalized: {RMSE}\")"
   ]
  },
  {
   "attachments": {},
   "cell_type": "markdown",
   "metadata": {},
   "source": [
    "#### **Exercise 4.3** - *Checkerboard calibration 1*"
   ]
  },
  {
   "cell_type": "code",
   "execution_count": 4,
   "metadata": {},
   "outputs": [],
   "source": [
    "def checkerboard_points(n, m):\n",
    "    return np.vstack([np.array([i - (n-1)/2, j - (m-1)/2, 0])  \n",
    "                      for j in range(m)\n",
    "                      for i in range(n)]).T"
   ]
  },
  {
   "attachments": {},
   "cell_type": "markdown",
   "metadata": {},
   "source": [
    "#### **Exercise 4.4** - *Let $Q_{\\Omega}$ define a set of corners on the checkerboard. Define three sets of checkerboard points as:* \n",
    "$$Q_a=\\mathcal{R}(\\frac{\\pi}{10},0,0)Q_{\\Omega}, \\\\ Q_b=\\mathcal{R}(,0,0)Q_{\\Omega}, \\\\Q_c=\\mathcal{R}(-\\frac{\\pi}{10},0,0)Q_{\\Omega}$$\n",
    "\n",
    "#### *Via projection matrix in 4.1, project all points to the image plane obtaining $q_a$, $q_b$ and $q_c$.*"
   ]
  },
  {
   "cell_type": "code",
   "execution_count": 5,
   "metadata": {},
   "outputs": [
    {
     "data": {
      "image/png": "[encoded data removed]",
      "text/plain": [
       "<Figure size 640x480 with 1 Axes>"
      ]
     },
     "metadata": {},
     "output_type": "display_data"
    }
   ],
   "source": [
    "# Sanity check of Rotation.\n",
    "n, m = 10, 20\n",
    "Qomega = checkerboard_points(n, m)\n",
    "Ra = Rotation.from_euler('xyz', [math.pi/10, 0, 0]).as_matrix()\n",
    "Rb = np.eye(3)\n",
    "Rc = Rotation.from_euler('xyz', [-math.pi/10, 0, 0]).as_matrix()\n",
    "\n",
    "Qa = Ra @ Qomega\n",
    "Qb = Rb @ Qomega\n",
    "Qc = Rc @ Qomega\n",
    "\n",
    "fig = plt.figure()\n",
    "ax = fig.add_subplot(projection='3d')\n",
    "\n",
    "ax.scatter(*Qa)\n",
    "ax.scatter(*Qb)\n",
    "ax.scatter(*Qc)\n",
    "ax.view_init(20, 10)"
   ]
  },
  {
   "cell_type": "code",
   "execution_count": 6,
   "metadata": {},
   "outputs": [
    {
     "data": {
      "image/png": "[encoded data removed]",
      "text/plain": [
       "<Figure size 640x480 with 1 Axes>"
      ]
     },
     "metadata": {},
     "output_type": "display_data"
    }
   ],
   "source": [
    "qa, qb, qc = P @ PiInv(Qa), P @ PiInv(Qb), P @ PiInv(Qc)\n",
    "\n",
    "fig, ax = plt.subplots()\n",
    "ax.scatter(*Pi(qa))\n",
    "ax.scatter(*Pi(qb))\n",
    "ax.scatter(*Pi(qc));"
   ]
  },
  {
   "attachments": {},
   "cell_type": "markdown",
   "metadata": {},
   "source": [
    "#### **Exercise 4.5** - *Zhang's method implementation 1*"
   ]
  },
  {
   "cell_type": "code",
   "execution_count": 1,
   "metadata": {},
   "outputs": [],
   "source": [
    "import importlib\n",
    "importlib.reload\n",
    "from CV_utils import *\n",
    "import numpy as np\n",
    "import math\n",
    "import cv2\n",
    "import itertools as it\n",
    "import matplotlib.pyplot as plt\n",
    "from scipy.spatial.transform import Rotation"
   ]
  },
  {
   "cell_type": "code",
   "execution_count": 7,
   "metadata": {},
   "outputs": [
    {
     "name": "stdout",
     "output_type": "stream",
     "text": [
      "3.2771097687201215e-13\n",
      "2.2044877689435865e-13\n",
      "3.0832159540880066e-13\n"
     ]
    }
   ],
   "source": [
    "qs = np.array([qa, qb, qc])\n",
    "Hs = estimateHomographies(Qomega, qs)\n",
    "\n",
    "# Construct Q tilde.\n",
    "Q_tilde = Qomega.copy()\n",
    "Q_tilde[-1] = 1\n",
    "\n",
    "for qi, Hi in zip(qs, Hs):\n",
    "    qi_est = Hi @ Q_tilde\n",
    "    print(np.linalg.norm(Pi(qi) - Pi(qi_est), axis=0).mean())"
   ]
  },
  {
   "attachments": {},
   "cell_type": "markdown",
   "metadata": {},
   "source": [
    "#### **Exercise 4.6** - *Zhang's method implementation 2*"
   ]
  },
  {
   "cell_type": "code",
   "execution_count": 9,
   "metadata": {},
   "outputs": [
    {
     "data": {
      "text/plain": [
       "array([ 4.51834392e-07,  1.08154846e-22,  4.51834392e-07, -4.33761016e-04,\n",
       "       -2.43990572e-04,  9.99999876e-01])"
      ]
     },
     "execution_count": 9,
     "metadata": {},
     "output_type": "execute_result"
    }
   ],
   "source": [
    "def estimate_b(Hs):\n",
    "\n",
    "    def get_v(H: np.array, alpha: int, beta: int) -> np.array:\n",
    "        v = np.array([\n",
    "            H[0, alpha] * H[0, beta], \n",
    "            H[0, alpha] * H[1, beta] + H[1, alpha] * H[0, beta],\n",
    "            H[1, alpha] * H[1, beta],\n",
    "            H[2, alpha] * H[0, beta] + H[0, alpha] * H[2, beta],\n",
    "            H[2, alpha] * H[1, beta] + H[1, alpha] * H[2, beta],\n",
    "            H[2, alpha] * H[2, beta]\n",
    "        ])\n",
    "        return v\n",
    "    \n",
    "    V = np.vstack([np.array([get_v(H, 0, 1), get_v(H, 0, 0) - get_v(H, 1, 1)]) for H in Hs])\n",
    "\n",
    "    u, s, v = np.linalg.svd(V)\n",
    "    b = v[-1]\n",
    "    return b / np.linalg.norm(b)\n",
    "\n",
    "Kinv = np.linalg.inv(K)\n",
    "Btrue = Kinv.T @ Kinv\n",
    "btrue = np.array([Btrue[0, 0], Btrue[0, 1], Btrue[1, 1],\n",
    "                  Btrue[0, 2], Btrue[1, 2], Btrue[2, 2]])\n",
    "btrue"
   ]
  },
  {
   "cell_type": "code",
   "execution_count": 12,
   "metadata": {},
   "outputs": [
    {
     "data": {
      "text/plain": [
       "array([ 4.51834392e-07,  1.08154846e-22,  4.51834392e-07, -4.33761016e-04,\n",
       "       -2.43990572e-04,  9.99999876e-01])"
      ]
     },
     "execution_count": 12,
     "metadata": {},
     "output_type": "execute_result"
    }
   ],
   "source": [
    "b = -estimate_b(Hs) #Very weird - we get different signs...\n",
    "#So we add a - in front to make them equal. Play around during exam..\n",
    "b"
   ]
  },
  {
   "cell_type": "code",
   "execution_count": 13,
   "metadata": {},
   "outputs": [
    {
     "data": {
      "text/plain": [
       "2.8429463547007227e-19"
      ]
     },
     "execution_count": 13,
     "metadata": {},
     "output_type": "execute_result"
    }
   ],
   "source": [
    "# Lets compare\n",
    "np.mean((b / np.linalg.norm(b)) - (btrue / np.linalg.norm(btrue)))"
   ]
  },
  {
   "attachments": {},
   "cell_type": "markdown",
   "metadata": {},
   "source": [
    "#### **Exercise 4.7** - *Zhang's Method Implementation 3, estimate Intrinsics*\n",
    "\n",
    "Takes a list of homographies H and returns a camera matrix K. Use estimate_b from last exercise."
   ]
  },
  {
   "cell_type": "code",
   "execution_count": 14,
   "metadata": {},
   "outputs": [
    {
     "data": {
      "text/plain": [
       "4.301260271192088e-12"
      ]
     },
     "execution_count": 14,
     "metadata": {},
     "output_type": "execute_result"
    }
   ],
   "source": [
    "def estimateIntrinsics(Hs):\n",
    "    \"\"\"Takes the output of estimateHomographies.\"\"\"\n",
    "    # b = [B11 B12 B22 B13 B23 B33]\n",
    "    b = estimate_b(Hs)\n",
    "    \n",
    "    # Use Zhang et al appendix B\n",
    "    deltay = (b[1] * b[3] - b[0] * b[4]) / (b[0] * b[2] - b[1]**2)\n",
    "    lambda_ = b[5] - (b[3]**2 + deltay * (b[1] * b[3] - b[0] * b[4])) / b[0]\n",
    "    f = np.sqrt(lambda_ / b[0])\n",
    "    alphaf = np.sqrt(lambda_ * b[0] / (b[0] * b[2] - b[1]**2))\n",
    "    betaf = - b[1] * f**2 * alphaf / lambda_\n",
    "    deltax = betaf * deltay / alphaf - b[3] * f**2 / lambda_\n",
    "    alpha = alphaf / f\n",
    "    beta = betaf / f\n",
    "\n",
    "    K = np.array([\n",
    "        [f, beta*f, deltax],\n",
    "        [0, alpha*f, deltay],\n",
    "        [0, 0, 1]\n",
    "    ])\n",
    "    return K\n",
    "\n",
    "K_est = estimateIntrinsics(Hs)\n",
    "\n",
    "np.linalg.norm(K - K_est) # Good enough!"
   ]
  },
  {
   "attachments": {},
   "cell_type": "markdown",
   "metadata": {},
   "source": [
    "#### **Exercise 4.8** - *Zhang's Method Implementation 4, estimating Extrensics*\n",
    "\n",
    "Takes camera matrix K and homographies H and returns rotations R and translations t of each checkerboard."
   ]
  },
  {
   "cell_type": "code",
   "execution_count": 15,
   "metadata": {},
   "outputs": [
    {
     "name": "stdout",
     "output_type": "stream",
     "text": [
      "[[ 1.     0.    -0.   ]\n",
      " [-0.     0.951 -0.309]\n",
      " [ 0.     0.309  0.951]]\n",
      "[[ 1.     0.     0.   ]\n",
      " [ 0.     0.951 -0.309]\n",
      " [ 0.     0.309  0.951]]\n",
      "[ 0. -0. 10.]\n",
      "\n",
      "\n",
      "[[ 1.  0.  0.]\n",
      " [-0.  1.  0.]\n",
      " [-0. -0.  1.]]\n",
      "[[1. 0. 0.]\n",
      " [0. 1. 0.]\n",
      " [0. 0. 1.]]\n",
      "[ 0. -0. 10.]\n",
      "\n",
      "\n",
      "[[ 1.     0.    -0.   ]\n",
      " [ 0.     0.951  0.309]\n",
      " [ 0.    -0.309  0.951]]\n",
      "[[ 1.    -0.     0.   ]\n",
      " [ 0.     0.951  0.309]\n",
      " [-0.    -0.309  0.951]]\n",
      "[ 0. -0. 10.]\n",
      "\n",
      "\n"
     ]
    }
   ],
   "source": [
    "def estimateExtrinsics(\n",
    "        K: np.array, \n",
    "        Hs: np.array\n",
    "    ):\n",
    "    \n",
    "    def estimateRt(\n",
    "            H: np.array, \n",
    "            Kinv: np.array\n",
    "        ):\n",
    "        lambdai = (np.linalg.norm(Kinv @ H[:, 0]) + np.linalg.norm(Kinv @ H[:, 1])) / 2\n",
    "        lambdai_inv = 1 / lambdai\n",
    "        t = lambdai_inv * Kinv @ H[:, 2]\n",
    "        \n",
    "        # Correct for flipped solutions, i.e., behind the camera.\n",
    "        if t[-1] < -1e-7:\n",
    "            return estimateRt(-H, Kinv)\n",
    "        else:\n",
    "            r0 = lambdai_inv * Kinv @ H[:, 0]\n",
    "            r1 = lambdai_inv * Kinv @ H[:, 1]\n",
    "            r2 = np.cross(r0, r1)\n",
    "            R = np.array([r0, r1, r2]).T\n",
    "        return R, t\n",
    "\n",
    "    Kinv = np.linalg.inv(K)\n",
    "    Rs, ts = list(), list()\n",
    "    for H in Hs:\n",
    "        R, t = estimateRt(H, Kinv)\n",
    "        Rs.append(R)\n",
    "        ts.append(t)\n",
    "    \n",
    "    return Rs, ts\n",
    "\n",
    "def calibratecamera(\n",
    "        qs: np.array,\n",
    "        Q: np.array\n",
    "    ):\n",
    "    \"\"\"qs is a list of homogenous points and \n",
    "    Q is a 3xn array 3D imhomogenous points.\"\"\"\n",
    "    Hs = estimateHomographies(Q, qs)\n",
    "    K = estimateIntrinsics(Hs)\n",
    "    Rs, ts = estimateExtrinsics(K, Hs)\n",
    "    return K, Rs, ts\n",
    "\n",
    "Rs, ts = estimateExtrinsics(K_est, Hs)\n",
    "\n",
    "for Ri, Rj, ti in zip(Rs, (Ra, Rb, Rc), ts):\n",
    "    print((R.T @ Ri).round(3))\n",
    "    print(Rj.round(3))\n",
    "    print(ti.round(3))\n",
    "    print('\\n')\n"
   ]
  },
  {
   "cell_type": "code",
   "execution_count": 30,
   "metadata": {},
   "outputs": [
    {
     "name": "stdout",
     "output_type": "stream",
     "text": [
      "Camera matrix estimate vs. Ground-truth:\n",
      "[[1000.   -0.  960.]\n",
      " [   0. 1000.  540.]\n",
      " [   0.    0.    1.]]\n",
      "[[1000.    0.  960.]\n",
      " [   0. 1000.  540.]\n",
      " [   0.    0.    1.]]\n",
      "RMSE error of projected points q_est vs q: \n",
      "[0. 0. 0.]\n"
     ]
    }
   ],
   "source": [
    "print('Camera matrix estimate vs. Ground-truth:')\n",
    "K_est, Rs, ts = calibratecamera(qs, Qomega)\n",
    "print(K_est.round(2)); print(K)\n",
    "q_ests = [ProjectPoints_(K_est, R, t, Qomega) for R, t in zip(Rs, ts)]\n",
    "RMSEs = [np.sqrt(np.mean(np.linalg.norm(q_est - Pi(q), axis=0)**2))\n",
    "        for q_est, q in zip(q_ests, qs)]\n",
    "print(f'RMSE error of projected points q_est vs q: \\n{np.round(RMSEs, 10)}')\n"
   ]
  },
  {
   "attachments": {},
   "cell_type": "markdown",
   "metadata": {},
   "source": [
    "# Week 13 - Structured Light / 3D scanning\n",
    "\n",
    "#### **Exercise 13.1** - *Uncalibrated cameras need calibration. How would you find their intrinsics and extrinsics?*\n",
    "\n",
    "- If not calibrated, use checkerboards to compute the essential and/or fundamental matrix!\n",
    "\n",
    "- The camera *intrinsic* matrix $K\\in\\mathbb{R}^{3\\times 3}$ is uppter triangular and defined as:\n",
    "$$K=\\begin{bmatrix}f_x & s & c_x \\\\ 0 & f_y & c_y \\\\ 0 & 0 & 1\\end{bmatrix},$$\n",
    "where $f_x$ and $f_y$ are the sensor's focal lengths in unit of pixels. $s$ is any possible skew between sensor axes. Usually $s=0$, unless misalignment of sensor and optical axis. $c_x$ and $c_y$ denote optical center in pixel coordinates, in unit of pixels.\n",
    "- Extrincics come from the camera *extrinsic* matrix $[R|t]\\in\\mathbb{R}^{3\\times 4}$ defined as:\n",
    "$$[R|t]=\\begin{bmatrix}R_{1,1} & R_{1,2} & R_{1,3} & t_0 \\\\ R_{2,1} & R_{2,2} & R_{2,3} & t_1 \\\\ R_{3,1} & R_{3,2} & R_{3,3} & t_2\\end{bmatrix},$$\n"
   ]
  },
  {
   "attachments": {},
   "cell_type": "markdown",
   "metadata": {},
   "source": [
    "#### **Exercise 13.2** - *Rectifying images.*"
   ]
  },
  {
   "cell_type": "code",
   "execution_count": 48,
   "metadata": {},
   "outputs": [
    {
     "ename": "NameError",
     "evalue": "name 'casper_path' is not defined",
     "output_type": "error",
     "traceback": [
      "\u001b[1;31m---------------------------------------------------------------------------\u001b[0m",
      "\u001b[1;31mNameError\u001b[0m                                 Traceback (most recent call last)",
      "Cell \u001b[1;32mIn[48], line 1\u001b[0m\n\u001b[1;32m----> 1\u001b[0m im0 \u001b[39m=\u001b[39m cv2\u001b[39m.\u001b[39mimread(os\u001b[39m.\u001b[39mpath\u001b[39m.\u001b[39mjoin(casper_path, \u001b[39m\"\u001b[39m\u001b[39msequence/frames0_0.png\u001b[39m\u001b[39m\"\u001b[39m))\n\u001b[0;32m      2\u001b[0m size \u001b[39m=\u001b[39m (im0\u001b[39m.\u001b[39mshape[\u001b[39m1\u001b[39m], im0\u001b[39m.\u001b[39mshape[\u001b[39m0\u001b[39m])\n\u001b[0;32m      3\u001b[0m stereo \u001b[39m=\u001b[39m cv2\u001b[39m.\u001b[39mstereoRectify(c[\u001b[39m'\u001b[39m\u001b[39mK0\u001b[39m\u001b[39m'\u001b[39m], c[\u001b[39m'\u001b[39m\u001b[39md0\u001b[39m\u001b[39m'\u001b[39m], c[\u001b[39m'\u001b[39m\u001b[39mK1\u001b[39m\u001b[39m'\u001b[39m],\n\u001b[0;32m      4\u001b[0m                            c[\u001b[39m'\u001b[39m\u001b[39md1\u001b[39m\u001b[39m'\u001b[39m], size, c[\u001b[39m'\u001b[39m\u001b[39mR\u001b[39m\u001b[39m'\u001b[39m], c[\u001b[39m'\u001b[39m\u001b[39mt\u001b[39m\u001b[39m'\u001b[39m], flags\u001b[39m=\u001b[39m\u001b[39m0\u001b[39m)\n",
      "\u001b[1;31mNameError\u001b[0m: name 'casper_path' is not defined"
     ]
    }
   ],
   "source": [
    "im0 = cv2.imread(os.path.join(casper_path, \"sequence/frames0_0.png\"))\n",
    "size = (im0.shape[1], im0.shape[0])\n",
    "stereo = cv2.stereoRectify(c['K0'], c['d0'], c['K1'],\n",
    "                           c['d1'], size, c['R'], c['t'], flags=0)\n",
    "R0, R1, P0, P1 = stereo[:4]\n",
    "maps0 = cv2.initUndistortRectifyMap(c['K0'], c['d0'], R0, P0, size, cv2.CV_32FC2)\n",
    "maps1 = cv2.initUndistortRectifyMap(c['K1'], c['d1'], R1, P1, size, cv2.CV_32FC2)\n",
    "\n",
    "\n",
    "\n",
    "\n",
    "ims0 = []\n",
    "ims1 = []\n",
    "\n",
    "images = sorted_alphanumeric(os.listdir(os.path.join(casper_path, 'sequence')))\n",
    "for i in images:\n",
    "    #print(i)\n",
    "    im = cv2.imread(os.path.join(casper_path, f'sequence/{i}'), cv2.IMREAD_GRAYSCALE).astype(np.float64)\n",
    "    size = (im.shape[1], im.shape[0])\n",
    "    stereo = cv2.stereoRectify(c['K0'], c['d0'], c['K1'],c['d1'], size, c['R'], c['t'], flags=0)\n",
    "    R0, R1, P0, P1 = stereo[:4]\n",
    "    maps0 = cv2.initUndistortRectifyMap(c['K0'], c['d0'], R0, P0, size, cv2.CV_32FC2)\n",
    "    maps1 = cv2.initUndistortRectifyMap(c['K1'], c['d1'], R1, P1, size, cv2.CV_32FC2)\n",
    "\n",
    "    if 'frames0' in i:\n",
    "        img = cv2.remap(im, *maps0, cv2.INTER_LINEAR)\n",
    "        ims0.append(img)\n",
    "    else:\n",
    "        img = cv2.remap(im, *maps1, cv2.INTER_LINEAR)\n",
    "        ims1.append(img)\n",
    "\n",
    "\n",
    "fig, ax = plt.subplots(1,2, figsize=(10,8))\n",
    "\n",
    "ax[0].imshow(ims0[0], cmap='gray')\n",
    "ax[1].imshow(ims1[0], cmap='gray')\n",
    "    "
   ]
  },
  {
   "attachments": {},
   "cell_type": "markdown",
   "metadata": {},
   "source": [
    "#### **Exercise 13.3** - *Compute phases of images*"
   ]
  },
  {
   "cell_type": "code",
   "execution_count": null,
   "metadata": {},
   "outputs": [],
   "source": [
    "def unwrap(ims, n1):\n",
    "    # A list of 16 images\n",
    "    primary_images = ims[2:18]\n",
    "    secondary_images = ims[18:26]\n",
    "    # Fast fourier transforms brrrrt\n",
    "    fft_primary = np.fft.rfft(primary_images, axis=0) # use rfft as input is only real numbers\n",
    "    fft_secondary = np.fft.rfft(secondary_images, axis=0) \n",
    "\n",
    "    # The Fourier component corresponding to the pattern is in the second component\n",
    "    theta_primary = np.angle(fft_primary[1])\n",
    "    theta_secondary = np.angle(fft_secondary[1])\n",
    "\n",
    "    theta_c = (theta_secondary - theta_primary) % (2*np.pi)\n",
    "\n",
    "    o_primary = np.round((n1 * theta_c - theta_primary) / (2*np.pi))\n",
    "\n",
    "    theta = ((2*np.pi * o_primary + theta_primary) / n1) % (2*np.pi)\n",
    "\n",
    "    return theta\n",
    "# Phases for camera 0 and 1.\n",
    "theta0 = unwrap(ims0, n1=40)\n",
    "theta1 = unwrap(ims1, n1=41)\n",
    "plt.imshow(theta0)"
   ]
  },
  {
   "attachments": {},
   "cell_type": "markdown",
   "metadata": {},
   "source": [
    "#### **Exercise 13.4** - *Highlight parts of phase image, which are sufficiently illuminated by the projector. Apply threshold of 15 when getting mask for each camera*"
   ]
  },
  {
   "cell_type": "code",
   "execution_count": null,
   "metadata": {},
   "outputs": [],
   "source": [
    "# Subtract the fully on and fully off\n",
    "# projector image from each other (initial two elements of ims) \n",
    "# to obtain a measurement of how\n",
    "# much projector light is in each pixel.\n",
    "projector_light0 = ims0[0]-ims0[1]\n",
    "projector_light1 = ims1[0]-ims1[1]\n",
    "\n",
    "mask0 = (projector_light0 > 15)\n",
    "mask1 = (projector_light1 > 15)\n",
    "\n",
    "plt.imshow(mask0)"
   ]
  },
  {
   "attachments": {},
   "cell_type": "markdown",
   "metadata": {},
   "source": [
    "#### **Exercise 13.5** - *Find (pixel) matches between cameras*"
   ]
  },
  {
   "cell_type": "code",
   "execution_count": null,
   "metadata": {},
   "outputs": [],
   "source": [
    "q0s = []\n",
    "q1s = []\n",
    "im0 = ims0[0]\n",
    "im1 = ims1[0]\n",
    "pixels0 = np.zeros((ims0[0].shape))\n",
    "\n",
    "for i in range(im0.shape[0]):\n",
    "    for j in range(im0.shape[1]):\n",
    "        if mask0[i,j] == True:\n",
    "            epipolar_line = im1[i,:]\n",
    "            # find j index that minimises distance between thetas\n",
    "            j1 = np.argmin([abs(theta1[i,j1]-theta0[i,j]) if mask1[i,j1] else np.inf for j1 in range(len(epipolar_line))])\n",
    "            \n",
    "            q0s.append((i,j))\n",
    "            q1s.append((i,j1))\n",
    "            \n",
    "disparity = np.zeros((im0.shape))\n",
    "\n",
    "for k, (i0,j0) in enumerate(q0s):\n",
    "    i1, j1 = q1s[k]\n",
    "    disparity[i0, j0] = j0-j1\n",
    "#Median filtering suppresses small errors throwing colour map off.\n",
    "disparity = cv2.medianBlur(disparity.astype(np.float32), 5)\n",
    "plt.imshow(disparity)"
   ]
  }
 ],
 "metadata": {
  "kernelspec": {
   "display_name": "myenv",
   "language": "python",
   "name": "python3"
  },
  "language_info": {
   "codemirror_mode": {
    "name": "ipython",
    "version": 3
   },
   "file_extension": ".py",
   "mimetype": "text/x-python",
   "name": "python",
   "nbconvert_exporter": "python",
   "pygments_lexer": "ipython3",
   "version": "3.10.9"
  },
  "orig_nbformat": 4
 },
 "nbformat": 4,
 "nbformat_minor": 2
}
